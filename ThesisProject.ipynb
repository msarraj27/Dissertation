{
 "cells": [
  {
   "cell_type": "code",
   "execution_count": 1,
   "id": "353854b7",
   "metadata": {
    "tags": []
   },
   "outputs": [],
   "source": [
    "import pandas as pd\n",
    "import numpy as np\n",
    "import pandas as pd\n",
    "from sklearn.model_selection import train_test_split\n",
    "from sklearn.preprocessing import OneHotEncoder\n",
    "from sklearn.preprocessing import LabelEncoder\n",
    "from sklearn.metrics import accuracy_score, classification_report\n",
    "from sklearn.tree import DecisionTreeRegressor\n",
    "import xgboost as xgb"
   ]
  },
  {
   "cell_type": "code",
   "execution_count": 2,
   "id": "a4c0e939",
   "metadata": {
    "tags": []
   },
   "outputs": [],
   "source": [
    "file_input = \"AI DATA export.csv\""
   ]
  },
  {
   "cell_type": "code",
   "execution_count": 3,
   "id": "98acce0f",
   "metadata": {
    "tags": []
   },
   "outputs": [],
   "source": [
    "df = pd.read_csv(file_input)"
   ]
  },
  {
   "cell_type": "code",
   "execution_count": 4,
   "id": "e7c710de",
   "metadata": {
    "tags": []
   },
   "outputs": [],
   "source": [
    "data = df"
   ]
  },
  {
   "cell_type": "code",
   "execution_count": 5,
   "id": "1b7840d2",
   "metadata": {
    "tags": []
   },
   "outputs": [],
   "source": [
    "data.dropna(subset=['Resolution'], inplace=True)\n",
    "data['Resolution'].fillna('Unknown', inplace=True)\n"
   ]
  },
  {
   "cell_type": "code",
   "execution_count": 6,
   "id": "55e902d0",
   "metadata": {
    "tags": []
   },
   "outputs": [],
   "source": [
    "# Specify columns to drop from features (X)\n",
    "columns_to_drop = ['Resolution', 'Formatted ID', 'Name', 'Description', 'Severity', 'Schedule State']\n",
    "\n",
    "# Separate features (X) and target variable (y)\n",
    "X = data.drop(columns_to_drop, axis=1)\n",
    "y = data['Resolution']  # Target variable\n",
    "\n",
    "# Initialize LabelEncoder for target variable\n",
    "label_encoder = LabelEncoder()\n",
    "\n",
    "# Encode target variable (y) into numeric labels\n",
    "y_encoded = label_encoder.fit_transform(y)\n",
    "\n",
    "# One-hot encode categorical features in X\n",
    "X_encoded = pd.get_dummies(X)  # This will one-hot encode all categorical columns\n"
   ]
  },
  {
   "cell_type": "code",
   "execution_count": 7,
   "id": "40dff78d",
   "metadata": {
    "tags": []
   },
   "outputs": [],
   "source": [
    "X_train, X_test, y_train, y_test = train_test_split(X_encoded, y_encoded, test_size=0.2, random_state=42)\n"
   ]
  },
  {
   "cell_type": "code",
   "execution_count": 8,
   "id": "ccfdd659",
   "metadata": {
    "tags": []
   },
   "outputs": [
    {
     "name": "stdout",
     "output_type": "stream",
     "text": [
      "Accuracy: 0.78\n",
      "              precision    recall  f1-score   support\n",
      "\n",
      "           0       0.90      0.56      0.69        16\n",
      "           1       0.50      1.00      0.67         1\n",
      "           2       0.89      0.87      0.88        62\n",
      "           3       0.62      0.44      0.52        18\n",
      "           4       0.68      0.85      0.76        46\n",
      "           6       1.00      1.00      1.00         1\n",
      "\n",
      "    accuracy                           0.78       144\n",
      "   macro avg       0.76      0.79      0.75       144\n",
      "weighted avg       0.79      0.78      0.77       144\n",
      "\n"
     ]
    }
   ],
   "source": [
    "import numpy as np\n",
    "from sklearn.metrics import accuracy_score, classification_report\n",
    "from sklearn.preprocessing import StandardScaler\n",
    "import xgboost as xgb\n",
    "\n",
    "class SimpleClassifier:\n",
    "    def __init__(self, n_estimators=100, max_depth=5, learning_rate=0.1):\n",
    "        self.n_estimators = n_estimators\n",
    "        self.max_depth = max_depth\n",
    "        self.learning_rate = learning_rate\n",
    "        self.scaler = StandardScaler()\n",
    "        self.model = xgb.XGBClassifier()\n",
    "\n",
    "    def fit(self, X, y):\n",
    "        # Scale input features\n",
    "        X_scaled = self.scaler.fit_transform(X)\n",
    "        \n",
    "        # Fit the XGBoost classifier\n",
    "        self.model.fit(X_scaled, y)\n",
    "\n",
    "    def predict(self, X):\n",
    "        # Scale input features\n",
    "        X_scaled = self.scaler.transform(X)\n",
    "        \n",
    "        # Make predictions using the XGBoost classifier\n",
    "        return self.model.predict(X_scaled)\n",
    "\n",
    "# Example usage:\n",
    "\n",
    "# Assuming X_train, X_test, y_train, and y_test are defined\n",
    "# Instantiate the custom XGBoost classifier\n",
    "model = SimpleClassifier(n_estimators=100, max_depth=5, learning_rate=0.1)\n",
    "\n",
    "# Train the model\n",
    "model.fit(X_train, y_train)\n",
    "\n",
    "# Make predictions on test data\n",
    "y_pred = model.predict(X_test)\n",
    "\n",
    "# Evaluate accuracy\n",
    "accuracy = accuracy_score(y_test, y_pred)\n",
    "print(f'Accuracy: {accuracy:.2f}')\n",
    "\n",
    "# Display classification report\n",
    "print(classification_report(y_test, y_pred))\n"
   ]
  }
 ],
 "metadata": {
  "kernelspec": {
   "display_name": "Python 3 (ipykernel)",
   "language": "python",
   "name": "python3"
  },
  "language_info": {
   "codemirror_mode": {
    "name": "ipython",
    "version": 3
   },
   "file_extension": ".py",
   "mimetype": "text/x-python",
   "name": "python",
   "nbconvert_exporter": "python",
   "pygments_lexer": "ipython3",
   "version": "3.11.7"
  }
 },
 "nbformat": 4,
 "nbformat_minor": 5
}
