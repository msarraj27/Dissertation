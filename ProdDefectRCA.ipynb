{
 "cells": [
  {
   "cell_type": "code",
   "execution_count": 1,
   "id": "353854b7",
   "metadata": {},
   "outputs": [],
   "source": [
    "import pandas as pd\n",
    "import numpy as np\n",
    "import pandas as pd\n",
    "from sklearn.model_selection import train_test_split\n",
    "from sklearn.preprocessing import OneHotEncoder\n",
    "from sklearn.preprocessing import LabelEncoder\n",
    "from sklearn.metrics import accuracy_score, classification_report\n",
    "from sklearn.tree import DecisionTreeRegressor \n",
    "import xgboost as xgb"
   ]
  },
  {
   "cell_type": "code",
   "execution_count": 2,
   "id": "a4c0e939",
   "metadata": {},
   "outputs": [],
   "source": [
    "file_input = \"AI DATA export.csv\""
   ]
  },
  {
   "cell_type": "code",
   "execution_count": 3,
   "id": "98acce0f",
   "metadata": {},
   "outputs": [],
   "source": [
    "df = pd.read_csv(file_input)"
   ]
  },
  {
   "cell_type": "code",
   "execution_count": 4,
   "id": "e7c710de",
   "metadata": {},
   "outputs": [],
   "source": [
    "data = df"
   ]
  },
  {
   "cell_type": "code",
   "execution_count": 5,
   "id": "1b7840d2",
   "metadata": {},
   "outputs": [],
   "source": [
    "data.dropna(subset=['Resolution'], inplace=True)\n",
    "data['Resolution'].fillna('Unknown', inplace=True)\n"
   ]
  },
  {
   "cell_type": "code",
   "execution_count": 6,
   "id": "1c272a4c",
   "metadata": {},
   "outputs": [],
   "source": [
    "# Specify columns to drop from features (X)\n",
    "columns_to_drop = ['Resolution', 'Formatted ID', 'Name', 'State', 'ServiceNow_Problem']\n"
   ]
  },
  {
   "cell_type": "code",
   "execution_count": 7,
   "id": "8e4b9c22",
   "metadata": {},
   "outputs": [],
   "source": [
    "# Separate features (X) and target variable (y)\n",
    "X = data.drop(columns_to_drop, axis=1)\n",
    "y = data['Resolution'] # Target Variable\n",
    "\n",
    "# Initialize LabelEncoder for target variable\n",
    "label_encoder = LabelEncoder()\n",
    "\n",
    "# Encode target variable (y) into numeric labels\n",
    "y_encoded = label_encoder.fit_transform(y)\n",
    "\n",
    "# One-hot encode categorical features in X\n",
    "X_encoded = pd.get_dummies(X) # This will one-hot encode all categorical columns\n",
    "\n",
    "# perform the train-test split\n",
    "X_train_val, X_test, y_train_val, y_test = train_test_split(X_encoded, y_encoded, test_size=0.2, random_state=42)\n",
    "\n",
    "# Further split the training data into training and validation sets\n",
    "# Set test_size to 0.2 to allocate 20% of the training data for validation\n",
    "X_train, X_val, y_train, y_val = train_test_split(X_train_val, y_train_val, test_size=0.2, random_state=42)\n",
    "\n"
   ]
  },
  {
   "cell_type": "code",
   "execution_count": 8,
   "id": "92efe3d6",
   "metadata": {},
   "outputs": [],
   "source": [
    "import numpy as np\n",
    "from sklearn.metrics import accuracy_score, classification_report\n",
    "from sklearn.preprocessing import StandardScaler\n",
    "import xgboost as xgb\n",
    "\n",
    "class SimpleClassifier:\n",
    "    def __init__(self, n_estimators=100, max_depth=5, learning_rate=0.1, early_stopping_rounds=10):\n",
    "        self.n_estimators = n_estimators\n",
    "        self.max_depth = max_depth\n",
    "        self.learning_rate = learning_rate\n",
    "        self.early_stopping_rounds = early_stopping_rounds\n",
    "        self.scaler = StandardScaler()\n",
    "        self.model = xgb.XGBClassifier(n_estimators=n_estimators, max_depth=max_depth, learning_rate=learning_rate, early_stopping_rounds=early_stopping_rounds)\n",
    "\n",
    "    def fit(self, X_train, y_train, validation_split=0.2, random_state=None):\n",
    "        # Scale input features for training and validation\n",
    "        X_train_scaled = self.scaler.fit_transform(X_train)\n",
    "        X_val_scaled = self.scaler.transform(X_val)\n",
    "        \n",
    "        # Fit the XGBoost classifier\n",
    "        self.model.fit(X_train_scaled, y_train, eval_set=[(X_val_scaled, y_val)], verbose=False)\n",
    "\n",
    "    def predict(self, X):\n",
    "        # Scale input features\n",
    "        X_scaled = self.scaler.transform(X)\n",
    "        \n",
    "        # Make predictions using the XGBoost classifier\n",
    "        return self.model.predict(X_scaled)\n",
    "\n",
    "# Example usage:\n",
    "\n",
    "# Assuming X_train, X_test, y_train, and y_test are defined\n",
    "# Instantiate the custom XGBoost classifier\n",
    "model = SimpleClassifier(n_estimators=100, max_depth=5, learning_rate=0.1, early_stopping_rounds=10)\n",
    "\n",
    "# Train the model\n",
    "model.fit(X_train, y_train, validation_split=0.2, random_state=42)\n",
    "\n"
   ]
  },
  {
   "cell_type": "code",
   "execution_count": 9,
   "id": "5476b35f",
   "metadata": {},
   "outputs": [
    {
     "name": "stdout",
     "output_type": "stream",
     "text": [
      "Class Index  Class Name  \n",
      "0            Converted   \n",
      "1            Database Change\n",
      "2            Design/Code Change\n",
      "3            Duplicate   \n",
      "4            Not a Defect\n",
      "5            Rejected    \n",
      "6            Requirements Changed\n",
      "Test Accuracy: 0.75\n",
      "Classification Report for Test Data:\n",
      "              precision    recall  f1-score   support\n",
      "\n",
      "           0       0.80      0.50      0.62        16\n",
      "           1       1.00      1.00      1.00         1\n",
      "           2       0.80      0.89      0.84        62\n",
      "           3       1.00      0.17      0.29        18\n",
      "           4       0.67      0.87      0.75        46\n",
      "           6       1.00      1.00      1.00         1\n",
      "\n",
      "    accuracy                           0.75       144\n",
      "   macro avg       0.88      0.74      0.75       144\n",
      "weighted avg       0.78      0.75      0.72       144\n",
      "\n",
      "Validation Accuracy: 0.72\n",
      "Classification Report for Validation Data:\n",
      "              precision    recall  f1-score   support\n",
      "\n",
      "           0       0.60      0.20      0.30        15\n",
      "           1       1.00      0.60      0.75         5\n",
      "           2       0.86      0.93      0.89        40\n",
      "           3       1.00      0.13      0.24        15\n",
      "           4       0.61      0.95      0.74        39\n",
      "           5       1.00      1.00      1.00         1\n",
      "\n",
      "    accuracy                           0.72       115\n",
      "   macro avg       0.84      0.63      0.65       115\n",
      "weighted avg       0.77      0.72      0.67       115\n",
      "\n"
     ]
    }
   ],
   "source": [
    "# Make predictions on test data\n",
    "y_pred = model.predict(X_test)\n",
    "\n",
    "# Print label names\n",
    "classes = model.model.classes_\n",
    "label_names = label_encoder.classes_\n",
    "\n",
    "# Create a matrix to display class list and class names\n",
    "class_matrix = []\n",
    "\n",
    "# Add header row\n",
    "header_row = ['Class Index', 'Class Name']\n",
    "class_matrix.append(header_row)\n",
    "\n",
    "# Add class index and class name for each class label\n",
    "for idx, label in enumerate(classes):\n",
    "    class_matrix.append([label, label_names[idx]])\n",
    "\n",
    "# Display class list and class names in matrix form\n",
    "for row in class_matrix:\n",
    "    print(\"{:<12} {:<12}\".format(*row))\n",
    "\n",
    "# Evaluate accuracy for test data\n",
    "test_accuracy = accuracy_score(y_test, y_pred)\n",
    "print(f'Test Accuracy: {test_accuracy:.2f}')\n",
    "\n",
    "\n",
    "# Display classification report for test data\n",
    "print(\"Classification Report for Test Data:\")\n",
    "report = classification_report(y_test, y_pred)\n",
    "print(report)\n",
    "\n",
    "# Make predictions on validation data\n",
    "y_val_pred = model.predict(X_val)\n",
    "\n",
    "# Evaluate accuracy for validation data\n",
    "val_accuracy = accuracy_score(y_val, y_val_pred)\n",
    "print(f'Validation Accuracy: {val_accuracy:.2f}')\n",
    "\n",
    "# Display classification report for validation data\n",
    "print(\"Classification Report for Validation Data:\")\n",
    "reportv = classification_report(y_val, y_val_pred)\n",
    "print(reportv)"
   ]
  },
  {
   "cell_type": "code",
   "execution_count": 10,
   "id": "4641d50e",
   "metadata": {},
   "outputs": [
    {
     "data": {
      "image/png": "[encoded data removed]",
      "text/plain": [
       "<Figure size 300x400 with 1 Axes>"
      ]
     },
     "metadata": {},
     "output_type": "display_data"
    }
   ],
   "source": [
    "import matplotlib.pyplot as plt\n",
    "import numpy as np\n",
    "\n",
    "# Data for plotting\n",
    "labels = ['Validation Accuracy', 'Test Accuracy']\n",
    "accuracy_values = [val_accuracy, test_accuracy]\n",
    "\n",
    "# Plotting\n",
    "plt.figure(figsize=(3, 4))\n",
    "plt.bar(labels, accuracy_values, color=['blue', 'green'])\n",
    "plt.ylabel('Accuracy')\n",
    "plt.title('Comparison of Validation Accuracy and Test Accuracy')\n",
    "plt.ylim(0, 1)  # Setting y-axis limit to ensure the full range of accuracy values is visible\n",
    "\n",
    "plt.show()"
   ]
  }
 ],
 "metadata": {
  "kernelspec": {
   "display_name": "Python 3 (ipykernel)",
   "language": "python",
   "name": "python3"
  },
  "language_info": {
   "codemirror_mode": {
    "name": "ipython",
    "version": 3
   },
   "file_extension": ".py",
   "mimetype": "text/x-python",
   "name": "python",
   "nbconvert_exporter": "python",
   "pygments_lexer": "ipython3",
   "version": "3.11.7"
  }
 },
 "nbformat": 4,
 "nbformat_minor": 5
}
